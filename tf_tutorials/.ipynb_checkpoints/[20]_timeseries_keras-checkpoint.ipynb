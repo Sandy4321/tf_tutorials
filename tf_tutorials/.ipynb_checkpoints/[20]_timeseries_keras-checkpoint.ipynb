{
 "cells": [
  {
   "cell_type": "code",
   "execution_count": 16,
   "metadata": {
    "collapsed": true
   },
   "outputs": [],
   "source": [
    "import os\n",
    "import matplotlib.pyplot as plt\n",
    "import seaborn as sns\n",
    "import pandas as pd\n",
    "import numpy as np\n",
    "%matplotlib inline"
   ]
  },
  {
   "cell_type": "code",
   "execution_count": 8,
   "metadata": {
    "collapsed": true
   },
   "outputs": [],
   "source": [
    "data_dir = '~/Documents/jena_climate/'\n",
    "fname = os.path.join(data_dir, 'jena_climate_2009_2016.csv')"
   ]
  },
  {
   "cell_type": "code",
   "execution_count": 11,
   "metadata": {},
   "outputs": [],
   "source": [
    "data = pd.read_csv(fname)"
   ]
  },
  {
   "cell_type": "code",
   "execution_count": 12,
   "metadata": {},
   "outputs": [
    {
     "data": {
      "text/html": [
       "<div>\n",
       "<style>\n",
       "    .dataframe thead tr:only-child th {\n",
       "        text-align: right;\n",
       "    }\n",
       "\n",
       "    .dataframe thead th {\n",
       "        text-align: left;\n",
       "    }\n",
       "\n",
       "    .dataframe tbody tr th {\n",
       "        vertical-align: top;\n",
       "    }\n",
       "</style>\n",
       "<table border=\"1\" class=\"dataframe\">\n",
       "  <thead>\n",
       "    <tr style=\"text-align: right;\">\n",
       "      <th></th>\n",
       "      <th>Date Time</th>\n",
       "      <th>p (mbar)</th>\n",
       "      <th>T (degC)</th>\n",
       "      <th>Tpot (K)</th>\n",
       "      <th>Tdew (degC)</th>\n",
       "      <th>rh (%)</th>\n",
       "      <th>VPmax (mbar)</th>\n",
       "      <th>VPact (mbar)</th>\n",
       "      <th>VPdef (mbar)</th>\n",
       "      <th>sh (g/kg)</th>\n",
       "      <th>H2OC (mmol/mol)</th>\n",
       "      <th>rho (g/m**3)</th>\n",
       "      <th>wv (m/s)</th>\n",
       "      <th>max. wv (m/s)</th>\n",
       "      <th>wd (deg)</th>\n",
       "    </tr>\n",
       "  </thead>\n",
       "  <tbody>\n",
       "    <tr>\n",
       "      <th>0</th>\n",
       "      <td>01.01.2009 00:10:00</td>\n",
       "      <td>996.52</td>\n",
       "      <td>-8.02</td>\n",
       "      <td>265.40</td>\n",
       "      <td>-8.90</td>\n",
       "      <td>93.3</td>\n",
       "      <td>3.33</td>\n",
       "      <td>3.11</td>\n",
       "      <td>0.22</td>\n",
       "      <td>1.94</td>\n",
       "      <td>3.12</td>\n",
       "      <td>1307.75</td>\n",
       "      <td>1.03</td>\n",
       "      <td>1.75</td>\n",
       "      <td>152.3</td>\n",
       "    </tr>\n",
       "    <tr>\n",
       "      <th>1</th>\n",
       "      <td>01.01.2009 00:20:00</td>\n",
       "      <td>996.57</td>\n",
       "      <td>-8.41</td>\n",
       "      <td>265.01</td>\n",
       "      <td>-9.28</td>\n",
       "      <td>93.4</td>\n",
       "      <td>3.23</td>\n",
       "      <td>3.02</td>\n",
       "      <td>0.21</td>\n",
       "      <td>1.89</td>\n",
       "      <td>3.03</td>\n",
       "      <td>1309.80</td>\n",
       "      <td>0.72</td>\n",
       "      <td>1.50</td>\n",
       "      <td>136.1</td>\n",
       "    </tr>\n",
       "    <tr>\n",
       "      <th>2</th>\n",
       "      <td>01.01.2009 00:30:00</td>\n",
       "      <td>996.53</td>\n",
       "      <td>-8.51</td>\n",
       "      <td>264.91</td>\n",
       "      <td>-9.31</td>\n",
       "      <td>93.9</td>\n",
       "      <td>3.21</td>\n",
       "      <td>3.01</td>\n",
       "      <td>0.20</td>\n",
       "      <td>1.88</td>\n",
       "      <td>3.02</td>\n",
       "      <td>1310.24</td>\n",
       "      <td>0.19</td>\n",
       "      <td>0.63</td>\n",
       "      <td>171.6</td>\n",
       "    </tr>\n",
       "    <tr>\n",
       "      <th>3</th>\n",
       "      <td>01.01.2009 00:40:00</td>\n",
       "      <td>996.51</td>\n",
       "      <td>-8.31</td>\n",
       "      <td>265.12</td>\n",
       "      <td>-9.07</td>\n",
       "      <td>94.2</td>\n",
       "      <td>3.26</td>\n",
       "      <td>3.07</td>\n",
       "      <td>0.19</td>\n",
       "      <td>1.92</td>\n",
       "      <td>3.08</td>\n",
       "      <td>1309.19</td>\n",
       "      <td>0.34</td>\n",
       "      <td>0.50</td>\n",
       "      <td>198.0</td>\n",
       "    </tr>\n",
       "    <tr>\n",
       "      <th>4</th>\n",
       "      <td>01.01.2009 00:50:00</td>\n",
       "      <td>996.51</td>\n",
       "      <td>-8.27</td>\n",
       "      <td>265.15</td>\n",
       "      <td>-9.04</td>\n",
       "      <td>94.1</td>\n",
       "      <td>3.27</td>\n",
       "      <td>3.08</td>\n",
       "      <td>0.19</td>\n",
       "      <td>1.92</td>\n",
       "      <td>3.09</td>\n",
       "      <td>1309.00</td>\n",
       "      <td>0.32</td>\n",
       "      <td>0.63</td>\n",
       "      <td>214.3</td>\n",
       "    </tr>\n",
       "  </tbody>\n",
       "</table>\n",
       "</div>"
      ],
      "text/plain": [
       "             Date Time  p (mbar)  T (degC)  Tpot (K)  Tdew (degC)  rh (%)  \\\n",
       "0  01.01.2009 00:10:00    996.52     -8.02    265.40        -8.90    93.3   \n",
       "1  01.01.2009 00:20:00    996.57     -8.41    265.01        -9.28    93.4   \n",
       "2  01.01.2009 00:30:00    996.53     -8.51    264.91        -9.31    93.9   \n",
       "3  01.01.2009 00:40:00    996.51     -8.31    265.12        -9.07    94.2   \n",
       "4  01.01.2009 00:50:00    996.51     -8.27    265.15        -9.04    94.1   \n",
       "\n",
       "   VPmax (mbar)  VPact (mbar)  VPdef (mbar)  sh (g/kg)  H2OC (mmol/mol)  \\\n",
       "0          3.33          3.11          0.22       1.94             3.12   \n",
       "1          3.23          3.02          0.21       1.89             3.03   \n",
       "2          3.21          3.01          0.20       1.88             3.02   \n",
       "3          3.26          3.07          0.19       1.92             3.08   \n",
       "4          3.27          3.08          0.19       1.92             3.09   \n",
       "\n",
       "   rho (g/m**3)  wv (m/s)  max. wv (m/s)  wd (deg)  \n",
       "0       1307.75      1.03           1.75     152.3  \n",
       "1       1309.80      0.72           1.50     136.1  \n",
       "2       1310.24      0.19           0.63     171.6  \n",
       "3       1309.19      0.34           0.50     198.0  \n",
       "4       1309.00      0.32           0.63     214.3  "
      ]
     },
     "execution_count": 12,
     "metadata": {},
     "output_type": "execute_result"
    }
   ],
   "source": [
    "data.head()"
   ]
  },
  {
   "cell_type": "code",
   "execution_count": 17,
   "metadata": {},
   "outputs": [
    {
     "data": {
      "image/png": "[encoded data removed]",
      "text/plain": [
       "<matplotlib.figure.Figure at 0x7fe608397400>"
      ]
     },
     "metadata": {},
     "output_type": "display_data"
    }
   ],
   "source": [
    "data.plot(y='T (degC)')\n",
    "plt.show()"
   ]
  },
  {
   "cell_type": "code",
   "execution_count": 18,
   "metadata": {
    "collapsed": true
   },
   "outputs": [],
   "source": [
    "data.index = pd.to_datetime(data['Date Time'])"
   ]
  },
  {
   "cell_type": "code",
   "execution_count": 31,
   "metadata": {},
   "outputs": [
    {
     "data": {
      "image/png": "[encoded data removed]",
      "text/plain": [
       "<matplotlib.figure.Figure at 0x7fe5ca9462e8>"
      ]
     },
     "metadata": {},
     "output_type": "display_data"
    }
   ],
   "source": [
    "data['2009/02/05':'2009/02/08'].plot(y='T (degC)')\n",
    "plt.show()"
   ]
  },
  {
   "cell_type": "markdown",
   "metadata": {},
   "source": [
    "## Standardization"
   ]
  },
  {
   "cell_type": "code",
   "execution_count": 36,
   "metadata": {
    "collapsed": true
   },
   "outputs": [],
   "source": [
    "float_data = data.as_matrix(columns=['p (mbar)','T (degC)','Tpot (K)','Tdew (degC)','rh (%)','VPmax (mbar)','VPact (mbar)','VPdef (mbar)','sh (g/kg)','H2OC (mmol/mol)','rho (g/m**3)','wv (m/s)','max. wv (m/s)','wd (deg)'] )"
   ]
  },
  {
   "cell_type": "code",
   "execution_count": 37,
   "metadata": {},
   "outputs": [
    {
     "data": {
      "text/plain": [
       "(420551, 14)"
      ]
     },
     "execution_count": 37,
     "metadata": {},
     "output_type": "execute_result"
    }
   ],
   "source": [
    "float_data.shape"
   ]
  },
  {
   "cell_type": "code",
   "execution_count": 38,
   "metadata": {},
   "outputs": [
    {
     "data": {
      "text/plain": [
       "array([[  9.96520000e+02,  -8.02000000e+00,   2.65400000e+02,\n",
       "         -8.90000000e+00,   9.33000000e+01,   3.33000000e+00,\n",
       "          3.11000000e+00,   2.20000000e-01,   1.94000000e+00,\n",
       "          3.12000000e+00,   1.30775000e+03,   1.03000000e+00,\n",
       "          1.75000000e+00,   1.52300000e+02]])"
      ]
     },
     "execution_count": 38,
     "metadata": {},
     "output_type": "execute_result"
    }
   ],
   "source": [
    "float_data[:1]"
   ]
  },
  {
   "cell_type": "code",
   "execution_count": 39,
   "metadata": {},
   "outputs": [],
   "source": [
    "mean = float_data[:200000].mean(axis=0)\n",
    "float_data -= mean"
   ]
  },
  {
   "cell_type": "code",
   "execution_count": 40,
   "metadata": {
    "collapsed": true
   },
   "outputs": [],
   "source": [
    "std = float_data[:200000].std(axis=0)\n",
    "float_data /= std"
   ]
  },
  {
   "cell_type": "markdown",
   "metadata": {},
   "source": [
    "## Data generator"
   ]
  },
  {
   "cell_type": "code",
   "execution_count": 52,
   "metadata": {
    "collapsed": true
   },
   "outputs": [],
   "source": [
    "def generator(data, lookback, delay, min_index, max_index, shuffle=False, batch_size=128, step=6):\n",
    "    if max_index is None:\n",
    "        max_index = len(data) - delay -1\n",
    "    i = min_index + lookback\n",
    "\n",
    "    while 1:\n",
    "        if shuffle:\n",
    "            rows = np.random.randint(min_index + lookback,\n",
    "                                    max_index,\n",
    "                                    size=batch_size)\n",
    "        else:\n",
    "            if i + batch_size >= max_index:\n",
    "                i = min_index + lookback\n",
    "            rows = np.arange(i, min(i + batch_size, max_index))\n",
    "            i += len(rows)\n",
    "\n",
    "        samples = np.zeros((len(rows),\n",
    "                           lookback // step,\n",
    "                           data.shape[-1]))\n",
    "        targets =np.zeros((len(rows),))\n",
    "\n",
    "        for j, row in enumerate(rows):\n",
    "            indices = range(rows[j] - lookback, rows[j], step)\n",
    "            samples[j] = data[indices]\n",
    "            targets[j] = data[rows[j] + delay][1]\n",
    "        yield samples, targets"
   ]
  },
  {
   "cell_type": "code",
   "execution_count": 53,
   "metadata": {
    "collapsed": true
   },
   "outputs": [],
   "source": [
    "lookback = 1440\n",
    "step = 6\n",
    "delay = 144\n",
    "batch_size = 128\n",
    "\n",
    "train_gen = generator(float_data,\n",
    "                    lookback=lookback,\n",
    "                    delay=delay,\n",
    "                    min_index=0,\n",
    "                    max_index=200000,\n",
    "                    shuffle=True,\n",
    "                    step=step,\n",
    "                    batch_size=batch_size)\n",
    "\n",
    "val_gen = generator(float_data,\n",
    "                    lookback=lookback,\n",
    "                    delay=delay,\n",
    "                    min_index=200001,\n",
    "                    max_index=300000,\n",
    "                    step=step,\n",
    "                    batch_size=batch_size)\n",
    "\n",
    "test_gen = generator(float_data,\n",
    "                    lookback=lookback,\n",
    "                    delay=delay,\n",
    "                    min_index=300001,\n",
    "                    max_index=None,\n",
    "                    step=step,\n",
    "                    batch_size=batch_size)"
   ]
  },
  {
   "cell_type": "code",
   "execution_count": 43,
   "metadata": {
    "collapsed": true
   },
   "outputs": [],
   "source": [
    "# This is how many steps to draw from `val_gen`\n",
    "# in order to see the whole validation set:\n",
    "val_steps = (300000 - 200001 - lookback) // batch_size\n",
    "# This is how many steps to draw from `test_gen`\n",
    "# in order to see the whole test set:\n",
    "test_steps = (len(float_data) - 300001 - lookback) // batch_size"
   ]
  },
  {
   "cell_type": "code",
   "execution_count": 44,
   "metadata": {},
   "outputs": [
    {
     "data": {
      "text/plain": [
       "769"
      ]
     },
     "execution_count": 44,
     "metadata": {},
     "output_type": "execute_result"
    }
   ],
   "source": [
    "val_steps"
   ]
  },
  {
   "cell_type": "code",
   "execution_count": 45,
   "metadata": {},
   "outputs": [
    {
     "data": {
      "text/plain": [
       "930"
      ]
     },
     "execution_count": 45,
     "metadata": {},
     "output_type": "execute_result"
    }
   ],
   "source": [
    "test_steps"
   ]
  },
  {
   "cell_type": "markdown",
   "metadata": {},
   "source": [
    "## Baseline prediction"
   ]
  },
  {
   "cell_type": "code",
   "execution_count": 54,
   "metadata": {},
   "outputs": [
    {
     "name": "stdout",
     "output_type": "stream",
     "text": [
      "0.289735972991\n"
     ]
    }
   ],
   "source": [
    "def evaluate_naive_method():\n",
    "    batch_maes = []\n",
    "    for step in range(val_steps):\n",
    "        samples, targets = next(val_gen)\n",
    "        preds = samples[:, -1, 1]\n",
    "        mae = np.mean(np.abs(preds - targets))\n",
    "        batch_maes.append(mae)\n",
    "    print(np.mean(batch_maes))\n",
    "\n",
    "evaluate_naive_method()"
   ]
  },
  {
   "cell_type": "markdown",
   "metadata": {},
   "source": [
    "## Gated Recurent Unit predictions"
   ]
  },
  {
   "cell_type": "code",
   "execution_count": 55,
   "metadata": {
    "collapsed": true
   },
   "outputs": [],
   "source": [
    "from keras.models import Sequential\n",
    "from keras import layers\n",
    "from keras.optimizers import RMSprop"
   ]
  },
  {
   "cell_type": "code",
   "execution_count": 58,
   "metadata": {
    "collapsed": true
   },
   "outputs": [],
   "source": [
    "model = Sequential()\n",
    "model.add(layers.GRU(32, input_shape=(None, float_data.shape[-1])))\n",
    "model.add(layers.Dense(1))"
   ]
  },
  {
   "cell_type": "code",
   "execution_count": 61,
   "metadata": {},
   "outputs": [
    {
     "name": "stdout",
     "output_type": "stream",
     "text": [
      "Epoch 1/20\n",
      "500/500 [==============================] - 99s - loss: 0.3032 - val_loss: 0.2757\n",
      "Epoch 2/20\n",
      "500/500 [==============================] - 98s - loss: 0.2856 - val_loss: 0.2657\n",
      "Epoch 3/20\n",
      "500/500 [==============================] - 99s - loss: 0.2794 - val_loss: 0.2659\n",
      "Epoch 4/20\n",
      "500/500 [==============================] - 98s - loss: 0.2733 - val_loss: 0.2634\n",
      "Epoch 5/20\n",
      "500/500 [==============================] - 99s - loss: 0.2691 - val_loss: 0.2677\n",
      "Epoch 6/20\n",
      "500/500 [==============================] - 99s - loss: 0.2625 - val_loss: 0.2677\n",
      "Epoch 7/20\n",
      "500/500 [==============================] - 98s - loss: 0.2573 - val_loss: 0.2627\n",
      "Epoch 8/20\n",
      "500/500 [==============================] - 98s - loss: 0.2539 - val_loss: 0.2708\n",
      "Epoch 9/20\n",
      "500/500 [==============================] - 98s - loss: 0.2485 - val_loss: 0.2715\n",
      "Epoch 10/20\n",
      "500/500 [==============================] - 97s - loss: 0.2455 - val_loss: 0.2779\n",
      "Epoch 11/20\n",
      "500/500 [==============================] - 97s - loss: 0.2400 - val_loss: 0.2696\n",
      "Epoch 12/20\n",
      "500/500 [==============================] - 97s - loss: 0.2368 - val_loss: 0.2767\n",
      "Epoch 13/20\n",
      "500/500 [==============================] - 97s - loss: 0.2327 - val_loss: 0.2811\n",
      "Epoch 14/20\n",
      "500/500 [==============================] - 97s - loss: 0.2273 - val_loss: 0.2857\n",
      "Epoch 15/20\n",
      "500/500 [==============================] - 97s - loss: 0.2243 - val_loss: 0.2894\n",
      "Epoch 16/20\n",
      "500/500 [==============================] - 97s - loss: 0.2223 - val_loss: 0.2908\n",
      "Epoch 17/20\n",
      "500/500 [==============================] - 97s - loss: 0.2179 - val_loss: 0.2905\n",
      "Epoch 18/20\n",
      "500/500 [==============================] - 97s - loss: 0.2137 - val_loss: 0.3021\n",
      "Epoch 19/20\n",
      "500/500 [==============================] - 97s - loss: 0.2107 - val_loss: 0.3033\n",
      "Epoch 20/20\n",
      "500/500 [==============================] - 97s - loss: 0.2080 - val_loss: 0.2967\n"
     ]
    }
   ],
   "source": [
    "model.compile(optimizer=RMSprop(),\n",
    "             loss='mae')\n",
    "history = model.fit_generator(train_gen,\n",
    "                             steps_per_epoch=500,\n",
    "                             epochs=20,\n",
    "                             validation_data=val_gen,\n",
    "                             validation_steps=val_steps)"
   ]
  },
  {
   "cell_type": "code",
   "execution_count": 64,
   "metadata": {},
   "outputs": [
    {
     "data": {
      "image/png": "[encoded data removed]",
      "text/plain": [
       "<matplotlib.figure.Figure at 0x7fe5ca57ccf8>"
      ]
     },
     "metadata": {},
     "output_type": "display_data"
    }
   ],
   "source": [
    "pd.DataFrame(history.history).plot()\n",
    "plt.show()"
   ]
  },
  {
   "cell_type": "markdown",
   "metadata": {},
   "source": [
    "## Add dropout"
   ]
  },
  {
   "cell_type": "code",
   "execution_count": 66,
   "metadata": {},
   "outputs": [],
   "source": [
    "model = Sequential()\n",
    "model.add(layers.GRU(32,\n",
    "                    dropout=0.2,\n",
    "                    recurrent_dropout=0.2,\n",
    "                    input_shape=(None, float_data.shape[-1])))\n",
    "model.add(layers.Dense(1))"
   ]
  },
  {
   "cell_type": "code",
   "execution_count": 67,
   "metadata": {
    "collapsed": true
   },
   "outputs": [],
   "source": [
    "model.compile(optimizer=RMSprop(),\n",
    "             loss='mae')"
   ]
  },
  {
   "cell_type": "code",
   "execution_count": 69,
   "metadata": {
    "scrolled": true
   },
   "outputs": [
    {
     "name": "stdout",
     "output_type": "stream",
     "text": [
      "Epoch 1/40\n",
      "500/500 [==============================] - 100s - loss: 0.3376 - val_loss: 0.2798\n",
      "Epoch 2/40\n",
      "500/500 [==============================] - 100s - loss: 0.3167 - val_loss: 0.2716\n",
      "Epoch 3/40\n",
      "500/500 [==============================] - 101s - loss: 0.3109 - val_loss: 0.2706\n",
      "Epoch 4/40\n",
      "500/500 [==============================] - 101s - loss: 0.3051 - val_loss: 0.2711\n",
      "Epoch 5/40\n",
      "500/500 [==============================] - 100s - loss: 0.3026 - val_loss: 0.2690\n",
      "Epoch 6/40\n",
      "500/500 [==============================] - 101s - loss: 0.2991 - val_loss: 0.2753\n",
      "Epoch 7/40\n",
      "500/500 [==============================] - 101s - loss: 0.2957 - val_loss: 0.2712\n",
      "Epoch 8/40\n",
      "500/500 [==============================] - 100s - loss: 0.2933 - val_loss: 0.2669\n",
      "Epoch 9/40\n",
      "500/500 [==============================] - 101s - loss: 0.2925 - val_loss: 0.2683\n",
      "Epoch 10/40\n",
      "500/500 [==============================] - 100s - loss: 0.2919 - val_loss: 0.2653\n",
      "Epoch 11/40\n",
      "500/500 [==============================] - 101s - loss: 0.2916 - val_loss: 0.2664\n",
      "Epoch 12/40\n",
      "500/500 [==============================] - 100s - loss: 0.2892 - val_loss: 0.2666\n",
      "Epoch 13/40\n",
      "500/500 [==============================] - 100s - loss: 0.2873 - val_loss: 0.2661\n",
      "Epoch 14/40\n",
      "500/500 [==============================] - 101s - loss: 0.2872 - val_loss: 0.2656\n",
      "Epoch 15/40\n",
      "500/500 [==============================] - 101s - loss: 0.2870 - val_loss: 0.2694\n",
      "Epoch 16/40\n",
      "500/500 [==============================] - 100s - loss: 0.2874 - val_loss: 0.2720\n",
      "Epoch 17/40\n",
      "500/500 [==============================] - 101s - loss: 0.2843 - val_loss: 0.2684\n",
      "Epoch 18/40\n",
      "500/500 [==============================] - 101s - loss: 0.2831 - val_loss: 0.2738\n",
      "Epoch 19/40\n",
      "500/500 [==============================] - 101s - loss: 0.2825 - val_loss: 0.2693\n",
      "Epoch 20/40\n",
      "500/500 [==============================] - 100s - loss: 0.2824 - val_loss: 0.2707\n",
      "Epoch 21/40\n",
      "500/500 [==============================] - 103s - loss: 0.2811 - val_loss: 0.2708\n",
      "Epoch 22/40\n",
      "500/500 [==============================] - 101s - loss: 0.2803 - val_loss: 0.2684\n",
      "Epoch 23/40\n",
      "500/500 [==============================] - 101s - loss: 0.2811 - val_loss: 0.2686\n",
      "Epoch 24/40\n",
      "500/500 [==============================] - 101s - loss: 0.2801 - val_loss: 0.2661\n",
      "Epoch 25/40\n",
      "500/500 [==============================] - 101s - loss: 0.2784 - val_loss: 0.2646\n",
      "Epoch 26/40\n",
      "500/500 [==============================] - 101s - loss: 0.2781 - val_loss: 0.2656\n",
      "Epoch 27/40\n",
      "500/500 [==============================] - 101s - loss: 0.2781 - val_loss: 0.2681\n",
      "Epoch 28/40\n",
      "500/500 [==============================] - 101s - loss: 0.2770 - val_loss: 0.2649\n",
      "Epoch 29/40\n",
      "500/500 [==============================] - 101s - loss: 0.2766 - val_loss: 0.2625\n",
      "Epoch 30/40\n",
      "500/500 [==============================] - 101s - loss: 0.2772 - val_loss: 0.2662\n",
      "Epoch 31/40\n",
      "500/500 [==============================] - 101s - loss: 0.2748 - val_loss: 0.2634\n",
      "Epoch 32/40\n",
      "500/500 [==============================] - 101s - loss: 0.2743 - val_loss: 0.2681\n",
      "Epoch 33/40\n",
      "500/500 [==============================] - 101s - loss: 0.2727 - val_loss: 0.2723\n",
      "Epoch 34/40\n",
      "500/500 [==============================] - 101s - loss: 0.2727 - val_loss: 0.2691\n",
      "Epoch 35/40\n",
      "500/500 [==============================] - 101s - loss: 0.2724 - val_loss: 0.2701\n",
      "Epoch 36/40\n",
      "500/500 [==============================] - 101s - loss: 0.2724 - val_loss: 0.2697\n",
      "Epoch 37/40\n",
      "500/500 [==============================] - 101s - loss: 0.2725 - val_loss: 0.2696\n",
      "Epoch 38/40\n",
      "500/500 [==============================] - 101s - loss: 0.2709 - val_loss: 0.2652\n",
      "Epoch 39/40\n",
      "500/500 [==============================] - 101s - loss: 0.2708 - val_loss: 0.2650\n",
      "Epoch 40/40\n",
      "500/500 [==============================] - 101s - loss: 0.2702 - val_loss: 0.2726\n"
     ]
    }
   ],
   "source": [
    "history = model.fit_generator(train_gen,\n",
    "                             steps_per_epoch=500,\n",
    "                             epochs=40,\n",
    "                             validation_data=val_gen,\n",
    "                             validation_steps=val_steps)"
   ]
  },
  {
   "cell_type": "code",
   "execution_count": 70,
   "metadata": {},
   "outputs": [
    {
     "data": {
      "image/png": "[encoded data removed]",
      "text/plain": [
       "<matplotlib.figure.Figure at 0x7fe5b9d4b208>"
      ]
     },
     "metadata": {},
     "output_type": "display_data"
    }
   ],
   "source": [
    "pd.DataFrame(history.history).plot()\n",
    "plt.show()"
   ]
  },
  {
   "cell_type": "code",
   "execution_count": 71,
   "metadata": {
    "collapsed": true
   },
   "outputs": [],
   "source": [
    "model = Sequential()\n",
    "model.add(layers.GRU(64,\n",
    "                    dropout=0.2,\n",
    "                    recurrent_dropout=0.2,\n",
    "                    input_shape=(None, float_data.shape[-1])))\n",
    "model.add(layers.Dense(1))\n",
    "\n",
    "model.compile(optimizer=RMSprop(),\n",
    "             loss='mae')"
   ]
  },
  {
   "cell_type": "code",
   "execution_count": 72,
   "metadata": {},
   "outputs": [
    {
     "name": "stdout",
     "output_type": "stream",
     "text": [
      "Epoch 1/30\n",
      "500/500 [==============================] - 101s - loss: 0.3302 - val_loss: 0.2758\n",
      "Epoch 2/30\n",
      "500/500 [==============================] - 101s - loss: 0.3098 - val_loss: 0.2695\n",
      "Epoch 3/30\n",
      "500/500 [==============================] - 101s - loss: 0.3031 - val_loss: 0.2811\n",
      "Epoch 4/30\n",
      "500/500 [==============================] - 101s - loss: 0.2966 - val_loss: 0.2698\n",
      "Epoch 5/30\n",
      "500/500 [==============================] - 101s - loss: 0.2914 - val_loss: 0.2650\n",
      "Epoch 6/30\n",
      "500/500 [==============================] - 101s - loss: 0.2904 - val_loss: 0.2644\n",
      "Epoch 7/30\n",
      "500/500 [==============================] - 101s - loss: 0.2858 - val_loss: 0.2677\n",
      "Epoch 8/30\n",
      "500/500 [==============================] - 101s - loss: 0.2841 - val_loss: 0.2629\n",
      "Epoch 9/30\n",
      "500/500 [==============================] - 101s - loss: 0.2817 - val_loss: 0.2631\n",
      "Epoch 10/30\n",
      "500/500 [==============================] - 101s - loss: 0.2786 - val_loss: 0.2645\n",
      "Epoch 11/30\n",
      "500/500 [==============================] - 102s - loss: 0.2767 - val_loss: 0.2645\n",
      "Epoch 12/30\n",
      "500/500 [==============================] - 101s - loss: 0.2724 - val_loss: 0.2653\n",
      "Epoch 13/30\n",
      "500/500 [==============================] - 101s - loss: 0.2715 - val_loss: 0.2617\n",
      "Epoch 14/30\n",
      "500/500 [==============================] - 101s - loss: 0.2705 - val_loss: 0.2686\n",
      "Epoch 15/30\n",
      "500/500 [==============================] - 101s - loss: 0.2674 - val_loss: 0.2670\n",
      "Epoch 16/30\n",
      "500/500 [==============================] - 101s - loss: 0.2668 - val_loss: 0.2645\n",
      "Epoch 17/30\n",
      "500/500 [==============================] - 101s - loss: 0.2653 - val_loss: 0.2660\n",
      "Epoch 18/30\n",
      "500/500 [==============================] - 101s - loss: 0.2631 - val_loss: 0.2651\n",
      "Epoch 19/30\n",
      "500/500 [==============================] - 101s - loss: 0.2625 - val_loss: 0.2667\n",
      "Epoch 20/30\n",
      "500/500 [==============================] - 101s - loss: 0.2610 - val_loss: 0.2699\n",
      "Epoch 21/30\n",
      "500/500 [==============================] - 102s - loss: 0.2593 - val_loss: 0.2648\n",
      "Epoch 22/30\n",
      "500/500 [==============================] - 101s - loss: 0.2576 - val_loss: 0.2665\n",
      "Epoch 23/30\n",
      "500/500 [==============================] - 101s - loss: 0.2567 - val_loss: 0.2716\n",
      "Epoch 24/30\n",
      "500/500 [==============================] - 101s - loss: 0.2566 - val_loss: 0.2700\n",
      "Epoch 25/30\n",
      "500/500 [==============================] - 101s - loss: 0.2551 - val_loss: 0.2696\n",
      "Epoch 26/30\n",
      "500/500 [==============================] - 101s - loss: 0.2534 - val_loss: 0.2697\n",
      "Epoch 27/30\n",
      "500/500 [==============================] - 101s - loss: 0.2524 - val_loss: 0.2777\n",
      "Epoch 28/30\n",
      "500/500 [==============================] - 101s - loss: 0.2512 - val_loss: 0.2745\n",
      "Epoch 29/30\n",
      "500/500 [==============================] - 101s - loss: 0.2520 - val_loss: 0.2781\n",
      "Epoch 30/30\n",
      "500/500 [==============================] - 101s - loss: 0.2505 - val_loss: 0.2716\n"
     ]
    }
   ],
   "source": [
    "history = model.fit_generator(train_gen,\n",
    "                             steps_per_epoch=500,\n",
    "                             epochs=30,\n",
    "                             validation_data=val_gen,\n",
    "                             validation_steps=val_steps)"
   ]
  },
  {
   "cell_type": "markdown",
   "metadata": {},
   "source": [
    "## Use LSTM"
   ]
  },
  {
   "cell_type": "code",
   "execution_count": 73,
   "metadata": {
    "collapsed": true
   },
   "outputs": [],
   "source": [
    "model = Sequential()\n",
    "model.add(layers.LSTM(32,\n",
    "                    dropout=0.2,\n",
    "                    recurrent_dropout=0.2,\n",
    "                    input_shape=(None, float_data.shape[-1])))\n",
    "model.add(layers.Dense(1))\n",
    "\n",
    "model.compile(optimizer=RMSprop(),\n",
    "             loss='mae')"
   ]
  },
  {
   "cell_type": "code",
   "execution_count": 74,
   "metadata": {},
   "outputs": [
    {
     "name": "stdout",
     "output_type": "stream",
     "text": [
      "Epoch 1/20\n",
      "500/500 [==============================] - 125s - loss: 0.3350 - val_loss: 0.2764\n",
      "Epoch 2/20\n",
      "500/500 [==============================] - 124s - loss: 0.3050 - val_loss: 0.2706\n",
      "Epoch 3/20\n",
      "500/500 [==============================] - 125s - loss: 0.2990 - val_loss: 0.2664\n",
      "Epoch 4/20\n",
      "500/500 [==============================] - 124s - loss: 0.2947 - val_loss: 0.2647\n",
      "Epoch 5/20\n",
      "500/500 [==============================] - 124s - loss: 0.2907 - val_loss: 0.2696\n",
      "Epoch 6/20\n",
      "500/500 [==============================] - 124s - loss: 0.2887 - val_loss: 0.2654\n",
      "Epoch 7/20\n",
      "500/500 [==============================] - 125s - loss: 0.2869 - val_loss: 0.2692\n",
      "Epoch 8/20\n",
      "500/500 [==============================] - 124s - loss: 0.2832 - val_loss: 0.2663\n",
      "Epoch 9/20\n",
      "500/500 [==============================] - 125s - loss: 0.2811 - val_loss: 0.2683\n",
      "Epoch 10/20\n",
      "500/500 [==============================] - 124s - loss: 0.2782 - val_loss: 0.2696\n",
      "Epoch 11/20\n",
      "500/500 [==============================] - 125s - loss: 0.2768 - val_loss: 0.2672\n",
      "Epoch 12/20\n",
      "500/500 [==============================] - 124s - loss: 0.2765 - val_loss: 0.2695\n",
      "Epoch 13/20\n",
      "500/500 [==============================] - 124s - loss: 0.2742 - val_loss: 0.2669\n",
      "Epoch 14/20\n",
      "500/500 [==============================] - 124s - loss: 0.2724 - val_loss: 0.2708\n",
      "Epoch 15/20\n",
      "500/500 [==============================] - 124s - loss: 0.2720 - val_loss: 0.2712\n",
      "Epoch 16/20\n",
      "500/500 [==============================] - 124s - loss: 0.2737 - val_loss: 0.2692\n",
      "Epoch 17/20\n",
      "500/500 [==============================] - 124s - loss: 0.2699 - val_loss: 0.2777\n",
      "Epoch 18/20\n",
      "500/500 [==============================] - 124s - loss: 0.2708 - val_loss: 0.2703\n",
      "Epoch 19/20\n",
      "500/500 [==============================] - 124s - loss: 0.2698 - val_loss: 0.2710\n",
      "Epoch 20/20\n",
      "500/500 [==============================] - 124s - loss: 0.2676 - val_loss: 0.2739\n"
     ]
    }
   ],
   "source": [
    "history = model.fit_generator(train_gen,\n",
    "                             steps_per_epoch=500,\n",
    "                             epochs=20,\n",
    "                             validation_data=val_gen,\n",
    "                             validation_steps=val_steps)"
   ]
  },
  {
   "cell_type": "code",
   "execution_count": 75,
   "metadata": {},
   "outputs": [
    {
     "data": {
      "image/png": "[encoded data removed]",
      "text/plain": [
       "<matplotlib.figure.Figure at 0x7fe548f0b6a0>"
      ]
     },
     "metadata": {},
     "output_type": "display_data"
    }
   ],
   "source": [
    "pd.DataFrame(history.history).plot()\n",
    "plt.show()"
   ]
  },
  {
   "cell_type": "code",
   "execution_count": 76,
   "metadata": {
    "collapsed": true
   },
   "outputs": [],
   "source": [
    "model = Sequential()\n",
    "model.add(layers.LSTM(32,\n",
    "                    dropout=0.2,\n",
    "                    recurrent_dropout=0.2,\n",
    "                    input_shape=(None, float_data.shape[-1])))\n",
    "model.add(layers.Dense(1))\n",
    "\n",
    "model.compile(optimizer=RMSprop(lr=1e-4),\n",
    "             loss='mae')"
   ]
  },
  {
   "cell_type": "code",
   "execution_count": 77,
   "metadata": {},
   "outputs": [
    {
     "name": "stdout",
     "output_type": "stream",
     "text": [
      "Epoch 1/10\n",
      "500/500 [==============================] - 125s - loss: 0.4462 - val_loss: 0.3088\n",
      "Epoch 2/10\n",
      "500/500 [==============================] - 124s - loss: 0.3503 - val_loss: 0.2902\n",
      "Epoch 3/10\n",
      "500/500 [==============================] - 124s - loss: 0.3358 - val_loss: 0.2846\n",
      "Epoch 4/10\n",
      "500/500 [==============================] - 125s - loss: 0.3267 - val_loss: 0.2818\n",
      "Epoch 5/10\n",
      "500/500 [==============================] - 124s - loss: 0.3231 - val_loss: 0.2802\n",
      "Epoch 6/10\n",
      "500/500 [==============================] - 124s - loss: 0.3173 - val_loss: 0.2793\n",
      "Epoch 7/10\n",
      "500/500 [==============================] - 125s - loss: 0.3153 - val_loss: 0.2779\n",
      "Epoch 8/10\n",
      "500/500 [==============================] - 124s - loss: 0.3132 - val_loss: 0.2754\n",
      "Epoch 9/10\n",
      "500/500 [==============================] - 124s - loss: 0.3124 - val_loss: 0.2754\n",
      "Epoch 10/10\n",
      "500/500 [==============================] - 125s - loss: 0.3099 - val_loss: 0.2737\n"
     ]
    }
   ],
   "source": [
    "history = model.fit_generator(train_gen,\n",
    "                             steps_per_epoch=500,\n",
    "                             epochs=10,\n",
    "                             validation_data=val_gen,\n",
    "                             validation_steps=val_steps)"
   ]
  },
  {
   "cell_type": "code",
   "execution_count": 78,
   "metadata": {},
   "outputs": [
    {
     "data": {
      "image/png": "[encoded data removed]",
      "text/plain": [
       "<matplotlib.figure.Figure at 0x7fe52a6dfcf8>"
      ]
     },
     "metadata": {},
     "output_type": "display_data"
    }
   ],
   "source": [
    "pd.DataFrame(history.history).plot()\n",
    "plt.show()"
   ]
  },
  {
   "cell_type": "code",
   "execution_count": 84,
   "metadata": {},
   "outputs": [],
   "source": [
    "model = Sequential()\n",
    "model.add(layers.GRU(64,\n",
    "                    dropout=0.1,\n",
    "                    recurrent_dropout=0.5,\n",
    "                    return_sequences=True,\n",
    "                    input_shape=(None, float_data.shape[-1])))\n",
    "model.add(layers.GRU(32, activation='relu',\n",
    "                    dropout=0.1,\n",
    "                    return_sequences=True,\n",
    "                    recurrent_dropout=0.5))\n",
    "model.add(layers.GRU(16, activation='relu',\n",
    "                    dropout=0.1,\n",
    "                    recurrent_dropout=0.5))\n",
    "model.add(layers.Dense(1))\n",
    "\n",
    "model.compile(optimizer=RMSprop(lr=1e-4),\n",
    "             loss='mae')"
   ]
  },
  {
   "cell_type": "code",
   "execution_count": 85,
   "metadata": {},
   "outputs": [
    {
     "name": "stdout",
     "output_type": "stream",
     "text": [
      "Epoch 1/30\n",
      "500/500 [==============================] - 294s - loss: 0.4430 - val_loss: 0.3105\n",
      "Epoch 2/30\n",
      "500/500 [==============================] - 293s - loss: 0.3632 - val_loss: 0.2951\n",
      "Epoch 3/30\n",
      "500/500 [==============================] - 293s - loss: 0.3492 - val_loss: 0.2924\n",
      "Epoch 4/30\n",
      "500/500 [==============================] - 292s - loss: 0.3377 - val_loss: 0.2899\n",
      "Epoch 5/30\n",
      "500/500 [==============================] - 293s - loss: 0.3341 - val_loss: 0.2865\n",
      "Epoch 6/30\n",
      "500/500 [==============================] - 293s - loss: 0.3280 - val_loss: 0.2813\n",
      "Epoch 7/30\n",
      "500/500 [==============================] - 293s - loss: 0.3245 - val_loss: 0.2844\n",
      "Epoch 8/30\n",
      "500/500 [==============================] - 293s - loss: 0.3219 - val_loss: 0.2834\n",
      "Epoch 9/30\n",
      "500/500 [==============================] - 293s - loss: 0.3171 - val_loss: 0.2789\n",
      "Epoch 10/30\n",
      "500/500 [==============================] - 293s - loss: 0.3164 - val_loss: 0.2776\n",
      "Epoch 11/30\n",
      "500/500 [==============================] - 293s - loss: 0.3142 - val_loss: 0.2764\n",
      "Epoch 12/30\n",
      "500/500 [==============================] - 292s - loss: 0.3126 - val_loss: 0.2776\n",
      "Epoch 13/30\n",
      "500/500 [==============================] - 292s - loss: 0.3111 - val_loss: 0.2750\n",
      "Epoch 14/30\n",
      "500/500 [==============================] - 292s - loss: 0.3099 - val_loss: 0.2757\n",
      "Epoch 15/30\n",
      "500/500 [==============================] - 293s - loss: 0.3095 - val_loss: 0.2746\n",
      "Epoch 16/30\n",
      "500/500 [==============================] - 293s - loss: 0.3068 - val_loss: 0.2760\n",
      "Epoch 17/30\n",
      "500/500 [==============================] - 292s - loss: 0.3086 - val_loss: 0.2749\n",
      "Epoch 18/30\n",
      "500/500 [==============================] - 293s - loss: 0.3068 - val_loss: 0.2748\n",
      "Epoch 19/30\n",
      "500/500 [==============================] - 292s - loss: 0.3079 - val_loss: 0.2735\n",
      "Epoch 20/30\n",
      "500/500 [==============================] - 292s - loss: 0.3046 - val_loss: 0.2751\n",
      "Epoch 21/30\n",
      "500/500 [==============================] - 293s - loss: 0.3034 - val_loss: 0.2795\n",
      "Epoch 22/30\n",
      "500/500 [==============================] - 292s - loss: 0.3018 - val_loss: 0.2728\n",
      "Epoch 23/30\n",
      "500/500 [==============================] - 293s - loss: 0.3004 - val_loss: 0.2752\n",
      "Epoch 24/30\n",
      "500/500 [==============================] - 292s - loss: 0.3008 - val_loss: 0.2754\n",
      "Epoch 25/30\n",
      "500/500 [==============================] - 292s - loss: 0.3015 - val_loss: 0.2729\n",
      "Epoch 26/30\n",
      "500/500 [==============================] - 293s - loss: 0.2998 - val_loss: 0.2715\n",
      "Epoch 27/30\n",
      "500/500 [==============================] - 292s - loss: 0.3004 - val_loss: 0.2782\n",
      "Epoch 28/30\n",
      "500/500 [==============================] - 293s - loss: 0.3002 - val_loss: 0.2729\n",
      "Epoch 29/30\n",
      "500/500 [==============================] - 293s - loss: 0.2991 - val_loss: 0.2727\n",
      "Epoch 30/30\n",
      "500/500 [==============================] - 293s - loss: 0.3011 - val_loss: 0.2750\n"
     ]
    }
   ],
   "source": [
    "history = model.fit_generator(train_gen,\n",
    "                             steps_per_epoch=500,\n",
    "                             epochs=30,\n",
    "                             validation_data=val_gen,\n",
    "                             validation_steps=val_steps)"
   ]
  },
  {
   "cell_type": "code",
   "execution_count": 86,
   "metadata": {},
   "outputs": [
    {
     "data": {
      "image/png": "[encoded data removed]",
      "text/plain": [
       "<matplotlib.figure.Figure at 0x7fe52115aef0>"
      ]
     },
     "metadata": {},
     "output_type": "display_data"
    }
   ],
   "source": [
    "pd.DataFrame(history.history).plot()\n",
    "plt.show()"
   ]
  },
  {
   "cell_type": "code",
   "execution_count": null,
   "metadata": {
    "collapsed": true
   },
   "outputs": [],
   "source": []
  }
 ],
 "metadata": {
  "kernelspec": {
   "display_name": "Python 3",
   "language": "python",
   "name": "python3"
  },
  "language_info": {
   "codemirror_mode": {
    "name": "ipython",
    "version": 3
   },
   "file_extension": ".py",
   "mimetype": "text/x-python",
   "name": "python",
   "nbconvert_exporter": "python",
   "pygments_lexer": "ipython3",
   "version": "3.5.2"
  }
 },
 "nbformat": 4,
 "nbformat_minor": 2
}
