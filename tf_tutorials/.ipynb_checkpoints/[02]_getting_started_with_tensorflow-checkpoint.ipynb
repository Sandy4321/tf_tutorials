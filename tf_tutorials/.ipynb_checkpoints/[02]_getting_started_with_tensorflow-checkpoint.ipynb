{
 "cells": [
  {
   "cell_type": "markdown",
   "metadata": {},
   "source": [
    "# The `tf.contrib.learn` library"
   ]
  },
  {
   "cell_type": "code",
   "execution_count": 1,
   "metadata": {
    "collapsed": true
   },
   "outputs": [],
   "source": [
    "import tensorflow as tf\n",
    "import numpy as np"
   ]
  },
  {
   "cell_type": "code",
   "execution_count": 2,
   "metadata": {
    "collapsed": true
   },
   "outputs": [],
   "source": [
    "features = [tf.contrib.layers.real_valued_column(\"x\", dimension=1)]"
   ]
  },
  {
   "cell_type": "code",
   "execution_count": 4,
   "metadata": {},
   "outputs": [
    {
     "name": "stdout",
     "output_type": "stream",
     "text": [
      "INFO:tensorflow:Using default config.\n",
      "WARNING:tensorflow:Using temporary folder as model directory: /tmp/tmpci_f0emz\n",
      "INFO:tensorflow:Using config: {'_save_summary_steps': 100, '_num_ps_replicas': 0, '_num_worker_replicas': 0, '_save_checkpoints_steps': None, '_model_dir': '/tmp/tmpci_f0emz', '_task_id': 0, '_cluster_spec': <tensorflow.python.training.server_lib.ClusterSpec object at 0x7f5a41024f60>, '_master': '', '_tf_random_seed': None, '_task_type': None, '_save_checkpoints_secs': 600, '_session_config': None, '_keep_checkpoint_every_n_hours': 10000, '_is_chief': True, '_environment': 'local', '_tf_config': gpu_options {\n",
      "  per_process_gpu_memory_fraction: 1.0\n",
      "}\n",
      ", '_keep_checkpoint_max': 5, '_evaluation_master': ''}\n"
     ]
    }
   ],
   "source": [
    "LR = tf.contrib.learn.LinearRegressor(feature_columns=features)"
   ]
  },
  {
   "cell_type": "code",
   "execution_count": 5,
   "metadata": {
    "collapsed": true
   },
   "outputs": [],
   "source": [
    "# data\n",
    "x_train = np.array([1.,2.,3.,4.])\n",
    "y_train = np.array([0.,-1.,-2.,-3.])\n",
    "x_eval = np.array([2.,5.,8.,1.])\n",
    "y_eval = np.array([-1.01,-4.1,-7,0.])"
   ]
  },
  {
   "cell_type": "code",
   "execution_count": 6,
   "metadata": {
    "collapsed": true
   },
   "outputs": [],
   "source": [
    "# processing functions for input data: define batches and epochs\n",
    "input_fn = tf.contrib.learn.io.numpy_input_fn(\n",
    "    {\"x\": x_train},\n",
    "    y_train,\n",
    "    batch_size=4,\n",
    "    num_epochs=1000\n",
    ")"
   ]
  },
  {
   "cell_type": "code",
   "execution_count": 8,
   "metadata": {
    "collapsed": true
   },
   "outputs": [],
   "source": [
    "eval_input_fn = tf.contrib.learn.io.numpy_input_fn(\n",
    "    {\"x\": x_eval},\n",
    "    y_eval,\n",
    "    batch_size=4,\n",
    "    num_epochs=1000\n",
    ")"
   ]
  },
  {
   "cell_type": "code",
   "execution_count": 11,
   "metadata": {},
   "outputs": [
    {
     "name": "stdout",
     "output_type": "stream",
     "text": [
      "WARNING:tensorflow:From /home/michael/tensorflow/lib/python3.5/site-packages/tensorflow/contrib/learn/python/learn/estimators/head.py:625: scalar_summary (from tensorflow.python.ops.logging_ops) is deprecated and will be removed after 2016-11-30.\n",
      "Instructions for updating:\n",
      "Please switch to tf.summary.scalar. Note that tf.summary.scalar uses the node name instead of the tag. This means that TensorFlow will automatically de-duplicate summary names based on the scope they are created in. Also, passing a tensor or list of tags to a scalar summary op is no longer supported.\n",
      "INFO:tensorflow:Create CheckpointSaverHook.\n",
      "INFO:tensorflow:Restoring parameters from /tmp/tmpci_f0emz/model.ckpt-2000\n",
      "INFO:tensorflow:Saving checkpoints for 2001 into /tmp/tmpci_f0emz/model.ckpt.\n",
      "INFO:tensorflow:loss = 1.42109e-13, step = 2001\n",
      "INFO:tensorflow:global_step/sec: 1020.5\n",
      "INFO:tensorflow:loss = 1.20792e-13, step = 2101 (0.099 sec)\n",
      "INFO:tensorflow:global_step/sec: 1271.12\n",
      "INFO:tensorflow:loss = 5.68434e-14, step = 2201 (0.079 sec)\n",
      "INFO:tensorflow:global_step/sec: 1248.97\n",
      "INFO:tensorflow:loss = 4.26326e-14, step = 2301 (0.080 sec)\n",
      "INFO:tensorflow:global_step/sec: 949.578\n",
      "INFO:tensorflow:loss = 1.72307e-13, step = 2401 (0.105 sec)\n",
      "INFO:tensorflow:global_step/sec: 1206.08\n",
      "INFO:tensorflow:loss = 1.58096e-13, step = 2501 (0.083 sec)\n",
      "INFO:tensorflow:global_step/sec: 1201.04\n",
      "INFO:tensorflow:loss = 1.43885e-13, step = 2601 (0.083 sec)\n",
      "INFO:tensorflow:global_step/sec: 1189.71\n",
      "INFO:tensorflow:loss = 1.58096e-13, step = 2701 (0.084 sec)\n",
      "INFO:tensorflow:global_step/sec: 1303.1\n",
      "INFO:tensorflow:loss = 8.61533e-14, step = 2801 (0.077 sec)\n",
      "INFO:tensorflow:global_step/sec: 1451.24\n",
      "INFO:tensorflow:loss = 7.19425e-14, step = 2901 (0.069 sec)\n",
      "INFO:tensorflow:Saving checkpoints for 3000 into /tmp/tmpci_f0emz/model.ckpt.\n",
      "INFO:tensorflow:Loss for final step: 7.19425e-14.\n",
      "WARNING:tensorflow:From /home/michael/tensorflow/lib/python3.5/site-packages/tensorflow/contrib/learn/python/learn/estimators/head.py:625: scalar_summary (from tensorflow.python.ops.logging_ops) is deprecated and will be removed after 2016-11-30.\n",
      "Instructions for updating:\n",
      "Please switch to tf.summary.scalar. Note that tf.summary.scalar uses the node name instead of the tag. This means that TensorFlow will automatically de-duplicate summary names based on the scope they are created in. Also, passing a tensor or list of tags to a scalar summary op is no longer supported.\n",
      "INFO:tensorflow:Starting evaluation at 2017-07-10-04:05:09\n",
      "INFO:tensorflow:Restoring parameters from /tmp/tmpci_f0emz/model.ckpt-3000\n",
      "INFO:tensorflow:Finished evaluation at 2017-07-10-04:05:10\n",
      "INFO:tensorflow:Saving dict for global step 3000: global_step = 3000, loss = 7.19425e-14\n",
      "WARNING:tensorflow:From /home/michael/tensorflow/lib/python3.5/site-packages/tensorflow/contrib/learn/python/learn/estimators/head.py:625: scalar_summary (from tensorflow.python.ops.logging_ops) is deprecated and will be removed after 2016-11-30.\n",
      "Instructions for updating:\n",
      "Please switch to tf.summary.scalar. Note that tf.summary.scalar uses the node name instead of the tag. This means that TensorFlow will automatically de-duplicate summary names based on the scope they are created in. Also, passing a tensor or list of tags to a scalar summary op is no longer supported.\n",
      "INFO:tensorflow:Starting evaluation at 2017-07-10-04:05:10\n",
      "INFO:tensorflow:Restoring parameters from /tmp/tmpci_f0emz/model.ckpt-3000\n",
      "INFO:tensorflow:Finished evaluation at 2017-07-10-04:05:10\n",
      "INFO:tensorflow:Saving dict for global step 3000: global_step = 3000, loss = 0.00252501\n",
      "train loss: {'loss': 7.1942452e-14, 'global_step': 3000}\n",
      "eval loss: {'loss': 0.0025250113, 'global_step': 3000}\n"
     ]
    }
   ],
   "source": [
    "LR.fit(input_fn=input_fn, steps=1000)\n",
    "train_loss = LR.evaluate(input_fn=input_fn)\n",
    "eval_loss = LR.evaluate(input_fn=eval_input_fn)\n",
    "print(\"train loss: %r\" % train_loss)\n",
    "print(\"eval loss: %r\" % eval_loss)"
   ]
  },
  {
   "cell_type": "code",
   "execution_count": null,
   "metadata": {
    "collapsed": true
   },
   "outputs": [],
   "source": []
  }
 ],
 "metadata": {
  "kernelspec": {
   "display_name": "Python 3",
   "language": "python",
   "name": "python3"
  },
  "language_info": {
   "codemirror_mode": {
    "name": "ipython",
    "version": 3
   },
   "file_extension": ".py",
   "mimetype": "text/x-python",
   "name": "python",
   "nbconvert_exporter": "python",
   "pygments_lexer": "ipython3",
   "version": "3.5.2"
  }
 },
 "nbformat": 4,
 "nbformat_minor": 2
}
