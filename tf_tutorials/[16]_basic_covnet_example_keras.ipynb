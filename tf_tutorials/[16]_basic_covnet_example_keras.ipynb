{
 "cells": [
  {
   "cell_type": "code",
   "execution_count": 2,
   "metadata": {},
   "outputs": [],
   "source": [
    "from keras import layers, models"
   ]
  },
  {
   "cell_type": "code",
   "execution_count": 3,
   "metadata": {},
   "outputs": [
    {
     "name": "stdout",
     "output_type": "stream",
     "text": [
      "_________________________________________________________________\n",
      "Layer (type)                 Output Shape              Param #   \n",
      "=================================================================\n",
      "conv2d_1 (Conv2D)            (None, 26, 26, 32)        320       \n",
      "_________________________________________________________________\n",
      "max_pooling2d_1 (MaxPooling2 (None, 13, 13, 32)        0         \n",
      "_________________________________________________________________\n",
      "conv2d_2 (Conv2D)            (None, 11, 11, 64)        18496     \n",
      "_________________________________________________________________\n",
      "max_pooling2d_2 (MaxPooling2 (None, 5, 5, 64)          0         \n",
      "_________________________________________________________________\n",
      "conv2d_3 (Conv2D)            (None, 3, 3, 64)          36928     \n",
      "=================================================================\n",
      "Total params: 55,744\n",
      "Trainable params: 55,744\n",
      "Non-trainable params: 0\n",
      "_________________________________________________________________\n"
     ]
    }
   ],
   "source": [
    "model = models.Sequential()\n",
    "model.add(layers.Conv2D(32, (3,3), activation='relu', input_shape=(28,28,1)))\n",
    "model.add(layers.MaxPooling2D((2,2)))\n",
    "model.add(layers.Conv2D(64, (3,3), activation='relu'))\n",
    "model.add(layers.MaxPooling2D((2,2)))\n",
    "model.add(layers.Conv2D(64, (3,3), activation='relu'))\n",
    "\n",
    "model.summary()"
   ]
  },
  {
   "cell_type": "code",
   "execution_count": 4,
   "metadata": {},
   "outputs": [
    {
     "name": "stdout",
     "output_type": "stream",
     "text": [
      "_________________________________________________________________\n",
      "Layer (type)                 Output Shape              Param #   \n",
      "=================================================================\n",
      "conv2d_1 (Conv2D)            (None, 26, 26, 32)        320       \n",
      "_________________________________________________________________\n",
      "max_pooling2d_1 (MaxPooling2 (None, 13, 13, 32)        0         \n",
      "_________________________________________________________________\n",
      "conv2d_2 (Conv2D)            (None, 11, 11, 64)        18496     \n",
      "_________________________________________________________________\n",
      "max_pooling2d_2 (MaxPooling2 (None, 5, 5, 64)          0         \n",
      "_________________________________________________________________\n",
      "conv2d_3 (Conv2D)            (None, 3, 3, 64)          36928     \n",
      "_________________________________________________________________\n",
      "flatten_1 (Flatten)          (None, 576)               0         \n",
      "_________________________________________________________________\n",
      "dense_1 (Dense)              (None, 64)                36928     \n",
      "_________________________________________________________________\n",
      "dense_2 (Dense)              (None, 10)                650       \n",
      "=================================================================\n",
      "Total params: 93,322\n",
      "Trainable params: 93,322\n",
      "Non-trainable params: 0\n",
      "_________________________________________________________________\n"
     ]
    }
   ],
   "source": [
    "#flatten tensor from 3D to 1D\n",
    "model.add(layers.Flatten())\n",
    "model.add(layers.Dense(64, activation='relu'))\n",
    "model.add(layers.Dense(10, activation='softmax'))\n",
    "\n",
    "model.summary()"
   ]
  },
  {
   "cell_type": "code",
   "execution_count": 5,
   "metadata": {
    "collapsed": true
   },
   "outputs": [],
   "source": [
    "# training\n",
    "from keras.datasets import mnist\n",
    "from keras.utils import to_categorical"
   ]
  },
  {
   "cell_type": "code",
   "execution_count": 6,
   "metadata": {
    "collapsed": true
   },
   "outputs": [],
   "source": [
    "(train_images, train_labels), (test_images, test_labels) = mnist.load_data()"
   ]
  },
  {
   "cell_type": "code",
   "execution_count": 7,
   "metadata": {
    "collapsed": true
   },
   "outputs": [],
   "source": [
    "train_images = train_images.reshape((60000, 28, 28, 1))\n",
    "train_images = train_images.astype('float32') / 255\n",
    "\n",
    "test_images = test_images.reshape((10000, 28, 28, 1))\n",
    "test_images = test_images.astype('float32') / 255"
   ]
  },
  {
   "cell_type": "code",
   "execution_count": 8,
   "metadata": {
    "collapsed": true
   },
   "outputs": [],
   "source": [
    "train_labels = to_categorical(train_labels)\n",
    "test_labels = to_categorical(test_labels)"
   ]
  },
  {
   "cell_type": "code",
   "execution_count": 9,
   "metadata": {},
   "outputs": [
    {
     "name": "stdout",
     "output_type": "stream",
     "text": [
      "Epoch 1/5\n",
      "60000/60000 [==============================] - 5s - loss: 0.1842 - acc: 0.9423     \n",
      "Epoch 2/5\n",
      "60000/60000 [==============================] - 3s - loss: 0.0486 - acc: 0.9849     \n",
      "Epoch 3/5\n",
      "60000/60000 [==============================] - 3s - loss: 0.0328 - acc: 0.9893     \n",
      "Epoch 4/5\n",
      "60000/60000 [==============================] - 3s - loss: 0.0252 - acc: 0.9922     \n",
      "Epoch 5/5\n",
      "60000/60000 [==============================] - 3s - loss: 0.0199 - acc: 0.9939     \n"
     ]
    }
   ],
   "source": [
    "model.compile(optimizer='rmsprop',\n",
    "             loss='categorical_crossentropy',\n",
    "             metrics=['accuracy'])\n",
    "history = model.fit(train_images, train_labels, epochs=5, batch_size=64)"
   ]
  },
  {
   "cell_type": "code",
   "execution_count": 10,
   "metadata": {},
   "outputs": [
    {
     "name": "stdout",
     "output_type": "stream",
     "text": [
      " 9984/10000 [============================>.] - ETA: 0s"
     ]
    }
   ],
   "source": [
    "test_loss, test_acc = model.evaluate(test_images, test_labels)"
   ]
  },
  {
   "cell_type": "code",
   "execution_count": 11,
   "metadata": {},
   "outputs": [
    {
     "data": {
      "text/plain": [
       "0.99119999999999997"
      ]
     },
     "execution_count": 11,
     "metadata": {},
     "output_type": "execute_result"
    }
   ],
   "source": [
    "test_acc"
   ]
  },
  {
   "cell_type": "code",
   "execution_count": null,
   "metadata": {
    "collapsed": true
   },
   "outputs": [],
   "source": []
  },
  {
   "cell_type": "code",
   "execution_count": null,
   "metadata": {
    "collapsed": true
   },
   "outputs": [],
   "source": []
  },
  {
   "cell_type": "code",
   "execution_count": null,
   "metadata": {
    "collapsed": true
   },
   "outputs": [],
   "source": []
  },
  {
   "cell_type": "code",
   "execution_count": null,
   "metadata": {
    "collapsed": true
   },
   "outputs": [],
   "source": []
  },
  {
   "cell_type": "code",
   "execution_count": null,
   "metadata": {
    "collapsed": true
   },
   "outputs": [],
   "source": []
  },
  {
   "cell_type": "code",
   "execution_count": null,
   "metadata": {
    "collapsed": true
   },
   "outputs": [],
   "source": []
  },
  {
   "cell_type": "code",
   "execution_count": null,
   "metadata": {
    "collapsed": true
   },
   "outputs": [],
   "source": []
  },
  {
   "cell_type": "code",
   "execution_count": null,
   "metadata": {
    "collapsed": true
   },
   "outputs": [],
   "source": []
  },
  {
   "cell_type": "code",
   "execution_count": null,
   "metadata": {
    "collapsed": true
   },
   "outputs": [],
   "source": []
  },
  {
   "cell_type": "code",
   "execution_count": null,
   "metadata": {
    "collapsed": true
   },
   "outputs": [],
   "source": []
  },
  {
   "cell_type": "code",
   "execution_count": 12,
   "metadata": {
    "collapsed": true
   },
   "outputs": [
    {
     "name": "stdout",
     "output_type": "stream",
     "text": [
      "\u001b[31mDEPRECATION: The default format will switch to columns in the future. You can use --format=(legacy|columns) (or define a format=(legacy|columns) in your pip.conf under the [list] section) to disable this warning.\u001b[0m\r\n",
      "backports.weakref (1.0rc1)\r\n",
      "beautifulsoup4 (4.4.1)\r\n",
      "bleach (1.5.0)\r\n",
      "catfish (1.4.2)\r\n",
      "chardet (2.3.0)\r\n",
      "command-not-found (0.3)\r\n",
      "cycler (0.10.0)\r\n",
      "decorator (4.0.11)\r\n",
      "defer (1.0.6)\r\n",
      "entrypoints (0.2.3)\r\n",
      "gpustat (0.3.1)\r\n",
      "html5lib (0.9999999)\r\n",
      "ipykernel (4.6.1)\r\n",
      "ipython (6.1.0)\r\n",
      "ipython-genutils (0.2.0)\r\n",
      "ipywidgets (6.0.0)\r\n",
      "jedi (0.10.2)\r\n",
      "Jinja2 (2.9.6)\r\n",
      "jsonschema (2.6.0)\r\n",
      "jupyter (1.0.0)\r\n",
      "jupyter-client (5.1.0)\r\n",
      "jupyter-console (5.1.0)\r\n",
      "jupyter-core (4.3.0)\r\n",
      "Keras (2.0.6)\r\n",
      "language-selector (0.1)\r\n",
      "lightdm-gtk-greeter-settings (1.2.1)\r\n",
      "lxml (3.5.0)\r\n",
      "Markdown (2.6.8)\r\n",
      "MarkupSafe (1.0)\r\n",
      "matplotlib (2.0.2)\r\n",
      "menulibre (2.1.3)\r\n",
      "mistune (0.7.4)\r\n",
      "mugshot (0.3.1)\r\n",
      "nbconvert (5.2.1)\r\n",
      "nbformat (4.3.0)\r\n",
      "notebook (5.0.0)\r\n",
      "numpy (1.13.1)\r\n",
      "onboard (1.2.0)\r\n",
      "pandas (0.20.3)\r\n",
      "pandocfilters (1.4.1)\r\n",
      "pexpect (4.0.1)\r\n",
      "pickleshare (0.7.4)\r\n",
      "Pillow (3.1.2)\r\n",
      "pip (9.0.1)\r\n",
      "pkg-resources (0.0.0)\r\n",
      "prompt-toolkit (1.0.14)\r\n",
      "protobuf (3.3.0)\r\n",
      "psutil (3.4.2)\r\n",
      "ptyprocess (0.5)\r\n",
      "pycups (1.9.73)\r\n",
      "pycurl (7.43.0)\r\n",
      "pydot-ng (1.0.0)\r\n",
      "Pygments (2.2.0)\r\n",
      "pygobject (3.20.0)\r\n",
      "pyparsing (2.2.0)\r\n",
      "python-apt (1.1.0b1)\r\n",
      "python-dateutil (2.6.0)\r\n",
      "python-debian (0.1.27)\r\n",
      "python-systemd (231)\r\n",
      "pytz (2017.2)\r\n",
      "pyxdg (0.25)\r\n",
      "PyYAML (3.12)\r\n",
      "pyzmq (16.0.2)\r\n",
      "qtconsole (4.3.0)\r\n",
      "reportlab (3.3.0)\r\n",
      "requests (2.9.1)\r\n",
      "scikit-learn (0.18.2)\r\n",
      "scipy (0.19.1)\r\n",
      "screen-resolution-extra (0.0.0)\r\n",
      "seaborn (0.8)\r\n",
      "sessioninstaller (0.0.0)\r\n",
      "setuptools (36.0.1)\r\n",
      "simplegeneric (0.8.1)\r\n",
      "six (1.10.0)\r\n",
      "ssh-import-id (5.5)\r\n",
      "tensorflow-gpu (1.2.1)\r\n",
      "terminado (0.6)\r\n",
      "testpath (0.3.1)\r\n",
      "tornado (4.5.1)\r\n",
      "traitlets (4.3.2)\r\n",
      "ubuntu-drivers-common (0.0.0)\r\n",
      "ufw (0.35)\r\n",
      "unattended-upgrades (0.1)\r\n",
      "urllib3 (1.13.1)\r\n",
      "virtualenv (15.0.1)\r\n",
      "wcwidth (0.1.7)\r\n",
      "Werkzeug (0.12.2)\r\n",
      "wheel (0.30.0a0)\r\n",
      "widgetsnbextension (2.0.0)\r\n",
      "xkit (0.0.0)\r\n"
     ]
    }
   ],
   "source": [
    "! pip list"
   ]
  },
  {
   "cell_type": "code",
   "execution_count": null,
   "metadata": {
    "collapsed": true
   },
   "outputs": [],
   "source": []
  }
 ],
 "metadata": {
  "kernelspec": {
   "display_name": "Python 3",
   "language": "python",
   "name": "python3"
  },
  "language_info": {
   "codemirror_mode": {
    "name": "ipython",
    "version": 3
   },
   "file_extension": ".py",
   "mimetype": "text/x-python",
   "name": "python",
   "nbconvert_exporter": "python",
   "pygments_lexer": "ipython3",
   "version": "3.5.2"
  }
 },
 "nbformat": 4,
 "nbformat_minor": 2
}
